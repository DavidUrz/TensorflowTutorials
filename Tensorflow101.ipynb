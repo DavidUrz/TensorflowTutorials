{
  "nbformat": 4,
  "nbformat_minor": 0,
  "metadata": {
    "colab": {
      "name": "Tensorflow101.ipynb",
      "version": "0.3.2",
      "provenance": [],
      "include_colab_link": true
    },
    "kernelspec": {
      "display_name": "Python 3",
      "language": "python",
      "name": "python3"
    }
  },
  "cells": [
    {
      "cell_type": "markdown",
      "metadata": {
        "id": "view-in-github",
        "colab_type": "text"
      },
      "source": [
        "<a href=\"https://colab.research.google.com/github/the-computer-scientist/TensorflowTutorials/blob/master/Tensorflow101.ipynb\" target=\"_parent\"><img src=\"https://colab.research.google.com/assets/colab-badge.svg\" alt=\"Open In Colab\"/></a>"
      ]
    },
    {
      "metadata": {
        "id": "dsMHujL4WeNP",
        "colab_type": "code",
        "colab": {}
      },
      "cell_type": "code",
      "source": [
        "import numpy as np\n",
        "import random\n",
        "import matplotlib.pyplot as plt\n",
        "import tensorflow as tf"
      ],
      "execution_count": 0,
      "outputs": []
    },
    {
      "metadata": {
        "scrolled": false,
        "id": "w4nTZthhWeNX",
        "colab_type": "code",
        "colab": {}
      },
      "cell_type": "code",
      "source": [
        "%matplotlib notebook\n",
        "random.seed(9)\n",
        "\n",
        "x_data = np.array([-3,-1,1,3])\n",
        "t_data = np.array([3,4.5,4.5,5.5])\n",
        "\n",
        "m_init = random.uniform(-1,1)\n",
        "c_init = 0\n",
        "\n",
        "x_input = tf.placeholder(dtype=tf.float32, shape=[None])\n",
        "m = tf.Variable(m_init, dtype=tf.float32, name=\"m\")\n",
        "c = tf.Variable(c_init, dtype=tf.float32, name=\"c\")\n",
        "\n",
        "print(x_input)\n",
        "print(m)\n",
        "print(c)\n",
        "\n",
        "mx = tf.multiply(m,x_input)\n",
        "y_model = tf.add(mx,c)\n",
        "\n",
        "with tf.Session() as sess:\n",
        "    sess.run(tf.global_variables_initializer())\n",
        "    output = sess.run(y_model, feed_dict={x_input: x_data})\n",
        "print(output)\n",
        "\n",
        "y_init = m_init*x_data + c_init\n",
        "print(y_init)\n",
        "\n",
        "fig = plt.figure()\n",
        "plt.scatter(x_data, t_data)\n",
        "plt.plot(x_data, y_init)\n",
        "fig.canvas.draw()\n",
        "\n",
        "target = tf.placeholder(dtype=tf.float32, shape=[None])\n",
        "error = tf.square(tf.subtract(y_model, target))\n",
        "loss = tf.reduce_sum(error)\n",
        "\n",
        "optimizer = tf.train.GradientDescentOptimizer(learning_rate=0.01)\n",
        "train_step = optimizer.minimize(loss)\n",
        "\n",
        "iterations = 100\n",
        "with tf.Session() as sess:\n",
        "    sess.run(tf.global_variables_initializer())\n",
        "    for i in range(iterations):\n",
        "        _, y_next = sess.run([train_step, y_model], feed_dict={x_input: x_data, target: t_data})\n",
        "\n",
        "#         y_next = sess.run(y_model, feed_dict={x_input: x_data, target: t_data})\n",
        "\n",
        "        line, = plt.plot(x_data, y_next)\n",
        "        fig.canvas.draw()\n",
        "        line.remove()\n",
        "    \n",
        "plt.plot(x_data, y_next)\n",
        "fig.canvas.draw()\n"
      ],
      "execution_count": 0,
      "outputs": []
    },
    {
      "metadata": {
        "id": "oo5k3IGsWeNb",
        "colab_type": "code",
        "colab": {}
      },
      "cell_type": "code",
      "source": [
        ""
      ],
      "execution_count": 0,
      "outputs": []
    }
  ]
}